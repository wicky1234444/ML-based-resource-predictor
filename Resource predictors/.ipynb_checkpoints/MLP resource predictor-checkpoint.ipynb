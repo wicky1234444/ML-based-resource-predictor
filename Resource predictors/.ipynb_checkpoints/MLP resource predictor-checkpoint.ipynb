{
 "cells": [
  {
   "cell_type": "markdown",
   "metadata": {},
   "source": [
    "*This code runs on synthetically generated data from \"../data_preprocessing/Synthetic data generation and preprocessing.ipynb\"*"
   ]
  },
  {
   "cell_type": "markdown",
   "metadata": {},
   "source": [
    "*The below cell converts user part into one hot encoding vector, sort the data by time stamp and saves it in new data file*"
   ]
  },
  {
   "cell_type": "code",
   "execution_count": null,
   "metadata": {
    "colab": {},
    "colab_type": "code",
    "id": "hmZ9S1WbsafA"
   },
   "outputs": [],
   "source": [
    "import numpy as np\n",
    "import pandas as pd\n",
    "\n",
    "calls_train = pd.read_csv('../data/378calls_data.csv')\n",
    "users = pd.Categorical(calls_train.user.unique())\n",
    "users_new = users.codes\n",
    "new_ids = pd.DataFrame({'user':users.categories,'user_id':users_new})\n",
    "calls_train = pd.merge(calls_train, new_ids, on='user')\n",
    "del calls_train['user']\n",
    "#calls_train = calls_train[['user_id', 'duration','month', 'date', 'hour', 'minute', 'second']]\n",
    "calls_train = calls_train[['user_id', 'duration', 'time_normalized']]\n",
    "calls_train = calls_train.sort_values(by=['time_normalized'])\n",
    "calls_train = calls_train.reset_index()\n",
    "del calls_train['index']\n",
    "cols = pd.get_dummies(calls_train.user_id).columns\n",
    "calls_train[cols] = pd.get_dummies(calls_train.user_id)\n",
    "columnss = ['user_id']+cols.to_list()\n",
    "# columnss+=['duration','month', 'date', 'hour', 'minute', 'second']\n",
    "columnss+=['duration', 'time_normalized']\n",
    "calls_train = calls_train[columnss]\n",
    "calls_train.to_csv('../data/large_calls_data.csv', index=False)"
   ]
  },
  {
   "cell_type": "code",
   "execution_count": null,
   "metadata": {
    "colab": {
     "base_uri": "https://localhost:8080/",
     "height": 34
    },
    "colab_type": "code",
    "executionInfo": {
     "elapsed": 1190,
     "status": "ok",
     "timestamp": 1590041550315,
     "user": {
      "displayName": "manoj koneni",
      "photoUrl": "https://lh3.googleusercontent.com/a-/AOh14GgeLlu20cBA46bY94vGaZWUdmNsxzAgjsZC6YFB5A=s64",
      "userId": "04353693995651475995"
     },
     "user_tz": -330
    },
    "id": "upOTifotsfMt",
    "outputId": "3e4211f0-9519-46e1-a213-ee4f672e56bb"
   },
   "outputs": [],
   "source": [
    "import torch\n",
    "import torch.nn as nn\n",
    "import torch.optim as optim\n",
    "import torch.nn.functional as F\n",
    "import numpy as np\n",
    "import pandas as pd\n",
    "import pickle as pkl\n",
    "import logging\n",
    "\n",
    "dev = torch.device(\n",
    "    \"cuda\") if torch.cuda.is_available() else torch.device(\"cpu\")\n",
    "dev = torch.device(\"cpu\")\n",
    "print(dev)"
   ]
  },
  {
   "cell_type": "markdown",
   "metadata": {},
   "source": [
    "*Train, test dataset split(70:30)*"
   ]
  },
  {
   "cell_type": "code",
   "execution_count": null,
   "metadata": {
    "colab": {
     "base_uri": "https://localhost:8080/",
     "height": 34
    },
    "colab_type": "code",
    "executionInfo": {
     "elapsed": 3722,
     "status": "ok",
     "timestamp": 1590041355141,
     "user": {
      "displayName": "manoj koneni",
      "photoUrl": "https://lh3.googleusercontent.com/a-/AOh14GgeLlu20cBA46bY94vGaZWUdmNsxzAgjsZC6YFB5A=s64",
      "userId": "04353693995651475995"
     },
     "user_tz": -330
    },
    "id": "ziHKl0OLshoS",
    "outputId": "a141fa10-85cf-4d93-9945-d9aa4ba51301"
   },
   "outputs": [],
   "source": [
    "data = pd.read_csv(\"../data/large_calls_data.csv\")\n",
    "del data['user_id']\n",
    "train_data = data[:81000]\n",
    "test_data = data[81000:]\n",
    "train_data = torch.tensor(train_data.values)\n",
    "#d = d.index_select(1,torch.LongTensor([x for x in range(28)]))\n",
    "test_data = torch.tensor(test_data.values)\n",
    "print(\"train_dataset:\",train_data.shape, \" test_dataset:\",test_data.shape)"
   ]
  },
  {
   "cell_type": "markdown",
   "metadata": {},
   "source": [
    "*MLP class*"
   ]
  },
  {
   "cell_type": "code",
   "execution_count": null,
   "metadata": {
    "colab": {},
    "colab_type": "code",
    "id": "9H5JmbX5sjuO"
   },
   "outputs": [],
   "source": [
    "class FNN(nn.Module):\n",
    "  def __init__(self, input, output, hidden, tanh):\n",
    "    super(FNN, self).__init__()\n",
    "    self.layer1 = nn.Linear(input, hidden)\n",
    "    self.layer2 = nn.Linear(hidden, output)\n",
    "    self.tanh = tanh\n",
    "\n",
    "  def forward(self, X):\n",
    "    X = self.layer1(X)\n",
    "    X = self.tanh(X)\n",
    "    X = self.layer2(X)\n",
    "    return X"
   ]
  },
  {
   "cell_type": "markdown",
   "metadata": {},
   "source": [
    "*The below cell is for loss calculation,converting the input into required batch-size for MLP input and calculating train, validation and test accuracies.*"
   ]
  },
  {
   "cell_type": "code",
   "execution_count": null,
   "metadata": {
    "colab": {},
    "colab_type": "code",
    "id": "t_x7uWwpyz_b"
   },
   "outputs": [],
   "source": [
    "loss = nn.CrossEntropyLoss()\n",
    "mseLoss = nn.MSELoss()\n",
    "z = [x for x in range(378)]\n",
    "\n",
    "def loss_func(X,Y):\n",
    "    ce_loss = loss(X.cpu().index_select(1, torch.LongTensor(z)), np.argmax(Y.cpu().index_select(1, torch.LongTensor(z)), axis=1))\n",
    "    #print('2',X.shape, Y.shape)\n",
    "    duration_loss = mseLoss(Y.cpu().index_select(1, torch.LongTensor([378, 379])).float(),X.cpu().index_select(1, torch.LongTensor([378,379])))\n",
    "    # for i in range(6):\n",
    "    #   added_feature_loss += mseLoss(Y.cpu().index_select(1, torch.LongTensor([754+i])).float(),X.cpu().index_select(1, torch.LongTensor([754+i])))\n",
    "    total_loss = ce_loss+duration_loss\n",
    "    return total_loss.to(dev)\n",
    "    \n",
    "train_data = torch.tensor(data[0:72000].values)\n",
    "validation_data = torch.tensor(data[72000:].values)\n",
    "\n",
    "    \n",
    "def preproc_input(bs, k, dataset):\n",
    "    i = 0\n",
    "    if dataset == 'train':\n",
    "        y = train_data[k+1:k+bs+1]\n",
    "    elif dataset == 'valid':\n",
    "        y = validation_data[k+1:k+bs+1]\n",
    "    elif dataset == 'test':\n",
    "        y = test_data[k+1:k+bs+1]\n",
    "    x = torch.zeros(1,380)\n",
    "    #print('reached here')\n",
    "    while i< bs:\n",
    "        if i==0:\n",
    "            if dataset == 'train':\n",
    "                x = train_data[i+k:(i+k+1)].view(1,-1)\n",
    "            elif dataset == 'valid':\n",
    "                x = validation_data[i+k:(i+k+1)].view(1,-1)\n",
    "            elif dataset == 'test':\n",
    "                x = test_data[i+k:(i+k+1)].view(1,-1)\n",
    "        else:\n",
    "            if dataset == 'train':\n",
    "                x = torch.cat((x, train_data[i+k:(i+k+1)].view(1,-1)), dim=0)\n",
    "            elif dataset == 'valid':\n",
    "                x = torch.cat((x, validation_data[i+k:(i+k+1)].view(1,-1)), dim=0)\n",
    "            elif dataset == 'test':\n",
    "                x = torch.cat((x, test_data[i+k:(i+k+1)].view(1,-1)), dim=0)\n",
    "        i+=1\n",
    "        #print('error')\n",
    "        #print(\"dataset: \",dataset, i+k, i+k+10, \" i \",i, \" k \",k)\n",
    "    return x.to(dev),y.to(dev)\n",
    "    \n",
    "def calc_accuracy(x, y):\n",
    "    predicted = np.argmax(x.detach().cpu().index_select(1, torch.LongTensor(z)), axis=1)\n",
    "    true_labels = np.argmax(y.cpu().index_select(1, torch.LongTensor(z)), axis=1)\n",
    "    #print(predicted, true_labels)\n",
    "    accuracy = torch.sum(torch.eq(predicted, true_labels))/predicted.shape[0]\n",
    "    return accuracy.item()"
   ]
  },
  {
   "cell_type": "markdown",
   "metadata": {},
   "source": [
    "*The below code is for training the MLP*"
   ]
  },
  {
   "cell_type": "code",
   "execution_count": null,
   "metadata": {
    "colab": {},
    "colab_type": "code",
    "id": "-GJh7UHzysJS"
   },
   "outputs": [],
   "source": [
    "def train(epochs, train_data, fnn, optimizer, bs):\n",
    "  for epoch in range(epochs):\n",
    "        ind, train_loss, train_accuracy=0, 0, 0\n",
    "        fnn.train()\n",
    "        while ind<=(train_data.shape[0]-2*bs):\n",
    "            x, y = preproc_input(bs, ind, 'train')\n",
    "            ind+=20\n",
    "            optimizer.zero_grad()\n",
    "            y_pred = fnn(x.float())\n",
    "            y_pred = torch.cat((F.softmax(y_pred[:,0:378],dim=1),torch.sigmoid(y_pred.index_select(1, torch.LongTensor([378,379]))).to(dev)),dim=1)\n",
    "            t_loss = loss_func(y_pred, y)\n",
    "            t_loss.backward()\n",
    "            optimizer.step()\n",
    "            train_loss+=t_loss.item()\n",
    "            train_accuracy+= calc_accuracy(y_pred, y)\n",
    "        train_loss/=(ind/20)\n",
    "        train_accuracy/=(ind/20)\n",
    "        \n",
    "        #########------------------validation----------------------##########\n",
    "        \n",
    "        print(\"in validation\")\n",
    "        fnn.eval()\n",
    "        with torch.no_grad():\n",
    "            v_ind,valid_accuracy, valid_loss = 0,0,0\n",
    "            while(v_ind<= validation_data.shape[0]-2*bs):\n",
    "                x,y = preproc_input(bs, v_ind, 'valid')\n",
    "                v_ind+=20\n",
    "                v_pred = fnn(x.float())\n",
    "                v_pred = torch.cat((F.softmax(v_pred[:,0:378],dim=1),torch.sigmoid(v_pred.index_select(1, torch.LongTensor([378,379]))).to(dev)),dim=1)\n",
    "                v_loss = loss_func(v_pred, y)\n",
    "                valid_loss+=v_loss.item()\n",
    "                valid_accuracy+= calc_accuracy(v_pred,y)\n",
    "            valid_loss/=(v_ind/20)\n",
    "            valid_accuracy/=(v_ind/20)\n",
    "        print(\"epoch: \", epoch, \" train_loss:\", train_loss, \" train_accuracy:\", train_accuracy, \" validation_loss:\", valid_loss,\n",
    "             \" validation_accuracy: \", valid_accuracy)\n",
    "        logging.info(\"%d,      %f,    %f,       %f,         %f\", epoch, train_loss, train_accuracy, valid_loss, valid_accuracy)\n",
    "        if(epoch%10==0):\n",
    "           torch.save(fnn,\"fnn_new\"+str(epoch)+\".pkl\")"
   ]
  },
  {
   "cell_type": "code",
   "execution_count": null,
   "metadata": {
    "colab": {
     "base_uri": "https://localhost:8080/",
     "height": 1000
    },
    "colab_type": "code",
    "executionInfo": {
     "elapsed": 1620911,
     "status": "ok",
     "timestamp": 1590046650816,
     "user": {
      "displayName": "manoj koneni",
      "photoUrl": "https://lh3.googleusercontent.com/a-/AOh14GgeLlu20cBA46bY94vGaZWUdmNsxzAgjsZC6YFB5A=s64",
      "userId": "04353693995651475995"
     },
     "user_tz": -330
    },
    "id": "sqVP-bI10rWP",
    "outputId": "8da41d33-1971-4f47-e88e-afca7aada318"
   },
   "outputs": [],
   "source": [
    "fnn = FNN(380, 380, 128, torch.tanh)\n",
    "fnn.to(dev)\n",
    "\n",
    "optimizer = optim.Adam(fnn.parameters(), lr=1e-4)\n",
    "\n",
    "logging.basicConfig(filename='fnnLog_new.txt', filemode='w', format='%(asctime)s - %(message)s',level=logging.INFO)\n",
    "logging.info(\"parms: lr=1e-3, batch size=20 ,session length=1, hidden layers=1, hidden size=128\")\n",
    "logging.info(\"epoch, train_loss, train_accuracy, validation_loss, validation_accuracy\")\n",
    "\n",
    "train(101, train_data, fnn, optimizer, 20)"
   ]
  }
 ],
 "metadata": {
  "accelerator": "GPU",
  "colab": {
   "authorship_tag": "ABX9TyPQNLtXAAAn4GfGdyFHKSyD",
   "collapsed_sections": [],
   "name": "BTP_FNN.ipynb",
   "provenance": []
  },
  "kernelspec": {
   "display_name": "Python 3",
   "language": "python",
   "name": "python3"
  },
  "language_info": {
   "codemirror_mode": {
    "name": "ipython",
    "version": 3
   },
   "file_extension": ".py",
   "mimetype": "text/x-python",
   "name": "python",
   "nbconvert_exporter": "python",
   "pygments_lexer": "ipython3",
   "version": "3.7.2"
  }
 },
 "nbformat": 4,
 "nbformat_minor": 1
}
