{
 "cells": [
  {
   "cell_type": "markdown",
   "metadata": {},
   "source": [
    "*This code runs on original calls dataset with 27 users, converts the timestamp column into seconds, removes redundant data.*"
   ]
  },
  {
   "cell_type": "code",
   "execution_count": null,
   "metadata": {},
   "outputs": [],
   "source": [
    "import numpy as np\n",
    "import pandas as pd\n",
    "import datetime\n",
    "\n",
    "calls = pd.read_csv(\"./csv/calls.csv\")\n",
    "##calls[['user', 'duration', 'timestamp']][10:].head()\n",
    "print(\"calls.csv columns: \",calls.columns)\n",
    "print(\"calls.csv \", calls.user.nunique(), calls.other.nunique(), calls.duration.mean(), calls.duration.max(), calls.duration.min())"
   ]
  },
  {
   "cell_type": "code",
   "execution_count": null,
   "metadata": {},
   "outputs": [],
   "source": [
    "import datetime\n",
    "t = datetime.datetime.strptime(calls['timestamp'][0],'%a %b %d %H:%M:%S +0100 %Y')\n",
    "t.date()"
   ]
  },
  {
   "cell_type": "markdown",
   "metadata": {},
   "source": [
    "*convert timestamp column into seconds* "
   ]
  },
  {
   "cell_type": "code",
   "execution_count": null,
   "metadata": {},
   "outputs": [],
   "source": [
    "##convert timestamp into seconds\n",
    "year, month, date, hour, minute, second, tzinfo, time_normalized = [], [], [], [], [],[], [], []\n",
    "for ts in calls['timestamp']:\n",
    "    t = datetime.datetime.strptime(ts,'%a %b %d %H:%M:%S %z %Y')\n",
    "    year.append(t.year)\n",
    "    month.append(t.month)\n",
    "    date.append(t.day)\n",
    "    hour.append(t.hour)\n",
    "    minute.append(t.minute)\n",
    "    second.append(t.second)\n",
    "    tzinfo.append(t.tzinfo)\n",
    "    if t.year==2010:\n",
    "        time_normalized.append(t.second+t.minute*60+t.hour*3600+t.day*24*3600+(t.month-9)*31*24*3600)\n",
    "    else:\n",
    "        time_normalized.append(t.second+t.minute*60+t.hour*3600+t.day*24*3600+(t.month+3)*31*24*3600)\n",
    "    \n",
    "    \n",
    "    \n",
    "calls['year'] = pd.DataFrame(year)\n",
    "calls['month'] = pd.DataFrame(month)\n",
    "calls['date'] = pd.DataFrame(date)\n",
    "calls['hour'] = pd.DataFrame(hour)\n",
    "calls['minute'] = pd.DataFrame(minute)\n",
    "calls['second'] = pd.DataFrame(second)\n",
    "calls['tzinfo'] = pd.DataFrame(tzinfo)\n",
    "calls['time_normalized'] = pd.DataFrame(time_normalized)\n",
    "del calls['timestamp']"
   ]
  },
  {
   "cell_type": "markdown",
   "metadata": {},
   "source": [
    "*remove data with year 1980*"
   ]
  },
  {
   "cell_type": "code",
   "execution_count": null,
   "metadata": {},
   "outputs": [],
   "source": [
    "## preprocessing \n",
    "calls = calls.drop(calls[calls['year']==1980].index)\n",
    "calls = calls.sort_values(by=['time_normalized'])"
   ]
  },
  {
   "cell_type": "markdown",
   "metadata": {},
   "source": [
    "*convert user column into one hot encoding vector*"
   ]
  },
  {
   "cell_type": "code",
   "execution_count": null,
   "metadata": {},
   "outputs": [],
   "source": [
    "cols = pd.get_dummies(calls.user).columns\n",
    "calls[cols] = pd.get_dummies(calls.user)\n",
    "del calls['other']\n",
    "del calls['direction']\n",
    "del calls['year']\n",
    "del calls['month']\n",
    "del calls['date']\n",
    "del calls['hour']\n",
    "del calls['minute']\n",
    "del calls['second']\n",
    "del calls['tzinfo']"
   ]
  },
  {
   "cell_type": "markdown",
   "metadata": {},
   "source": [
    "*save the data in final_calls.csv file* "
   ]
  },
  {
   "cell_type": "code",
   "execution_count": null,
   "metadata": {},
   "outputs": [],
   "source": [
    "calls.to_csv(\"../data/final_calls.csv\", index=False)"
   ]
  }
 ],
 "metadata": {
  "kernelspec": {
   "display_name": "Python 3.7.2 64-bit",
   "language": "python",
   "name": "python37264bit98086335ecdc4ac6a345fa60a8b3193f"
  },
  "language_info": {
   "codemirror_mode": {
    "name": "ipython",
    "version": 3
   },
   "file_extension": ".py",
   "mimetype": "text/x-python",
   "name": "python",
   "nbconvert_exporter": "python",
   "pygments_lexer": "ipython3",
   "version": "3.7.2"
  }
 },
 "nbformat": 4,
 "nbformat_minor": 2
}
