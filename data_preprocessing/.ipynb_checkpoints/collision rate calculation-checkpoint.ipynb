{
 "cells": [
  {
   "cell_type": "markdown",
   "metadata": {},
   "source": [
    "*This code calculates collision rate from the RNN predictions and RACH process.*"
   ]
  },
  {
   "cell_type": "code",
   "execution_count": null,
   "metadata": {},
   "outputs": [],
   "source": [
    "import pandas as pd\n",
    "predictions = pd.read_csv('./results/lstm models/rnn_prediction_80.csv')\n",
    "true_data = pd.read_csv('./results/lstm models/rnn_true_labels.csv')\n",
    "\n",
    "print(predictions.time_normalized.max(), predictions.time_normalized.min())\n",
    "print(true_data.time_normalized.max(), true_data.time_normalized.min())"
   ]
  },
  {
   "cell_type": "code",
   "execution_count": null,
   "metadata": {},
   "outputs": [],
   "source": [
    "## collision plots\n",
    "\n",
    "import matplotlib.pyplot as plt\n",
    "import numpy as np\n",
    "\n",
    "ues = 50\n",
    "pream = 64\n",
    "avg_col = []\n",
    "min_col = []\n",
    "max_col = []\n",
    "# for p in pream:\n",
    "rach_collisions = []\n",
    "rnn_collisions = []\n",
    "rach_and_rnn_collisions = []\n",
    "i=0\n",
    "while i<(predictions.shape[0]-100):\n",
    "    x = np.random.uniform(0,64,ues)\n",
    "    x = [np.ceil(j) for j in x]\n",
    "    y = np.unique(x, return_counts=True)\n",
    "    z = [j-1 for j in y[1]]\n",
    "    rach_collisions.append(np.sum(z))\n",
    "    c = ues-np.count_nonzero(predictions.loc[i:i+ues-1].user_id==true_data.loc[i:i+ues-1].user_id)\n",
    "    rnn_collisions.append(c)\n",
    "    x1 = np.random.uniform(0,64,c)\n",
    "    x1 = [np.ceil(j) for j in x1]\n",
    "    y1 = np.unique(x1, return_counts=True)\n",
    "    z1 = [j-1 for j in y1[1]]\n",
    "    rach_and_rnn_collisions.append(np.sum(z1))\n",
    "    i+=ues\n",
    "#     avg_col.append(np.mean(rach_collisions))\n",
    "#     min_col.append(np.min(rach_collisions))\n",
    "#     max_col.append(np.max(rach_collisions))\n",
    "\n",
    "timesteps = [k for k in range(int(i/ues))]\n",
    "plt.plot(timesteps, rach_collisions, 'r-', label = 'rach collisions')\n",
    "plt.plot(timesteps, rnn_collisions, 'b-', label = 'collisions with rnn ')\n",
    "plt.plot(timesteps, rach_and_rnn_collisions, 'g-', label = 'collisions with rnn and rach')\n",
    "plt.xlabel('time step')\n",
    "plt.ylabel('collsions')\n",
    "plt.title('K=50')\n",
    "plt.legend()\n",
    "plt.plot()\n",
    "\n",
    "# plt.plot(pream, avg_col, 'r-', label='average collisions')\n",
    "# plt.plot(pream, min_col, 'g-', label='minimum collisions')\n",
    "# plt.plot(pream, max_col, 'b-', label='maximum collisions')\n",
    "# plt.xlabel('number of preambles')\n",
    "# plt.ylabel('number of collisions')\n",
    "# plt.title('preambles vs collisions')\n",
    "# plt.legend()\n",
    "# plt.show()"
   ]
  },
  {
   "cell_type": "code",
   "execution_count": null,
   "metadata": {},
   "outputs": [],
   "source": [
    "# import numpy as np\n",
    "print(np.min(rach_collisions), np.mean(rach_collisions), np.max(rach_collisions))\n",
    "print(np.min(rnn_collisions), np.mean(rnn_collisions), np.max(rnn_collisions))\n",
    "print(np.min(rach_and_rnn_collisions), np.mean(rach_and_rnn_collisions), np.max(rach_and_rnn_collisions))"
   ]
  },
  {
   "cell_type": "code",
   "execution_count": null,
   "metadata": {},
   "outputs": [],
   "source": [
    "import pandas as pd\n",
    "import numpy as np\n",
    "\n",
    "df = pd.read_csv('./csv/378calls_data.csv')\n",
    "print(df.head())\n",
    "df.time_normalized*=calls_data.time_normalized.max()\n",
    "df.head()"
   ]
  },
  {
   "cell_type": "code",
   "execution_count": null,
   "metadata": {},
   "outputs": [],
   "source": [
    "## MLP vs RNN\n",
    "\n",
    "plt.plot(epochs, gpu_train_loss, 'r-', label = 'RNN train loss')\n",
    "plt.plot(epochs, gpu_valid_loss, 'b-', label = 'RNN validation loss')\n",
    "plt.plot(epochs, fnn_train_loss, 'g-', label = 'MLP train loss')\n",
    "plt.plot(epochs, fnn_valid_loss, 'y-', label = 'MLP validation loss')\n",
    "plt.title('RNN vs MLP accuracies')\n",
    "plt.xlabel('epochs')\n",
    "plt.ylabel('loss')\n",
    "plt.legend()\n",
    "plt.plot()"
   ]
  }
 ],
 "metadata": {
  "kernelspec": {
   "display_name": "Python 3.7.2 64-bit",
   "language": "python",
   "name": "python37264bit98086335ecdc4ac6a345fa60a8b3193f"
  },
  "language_info": {
   "codemirror_mode": {
    "name": "ipython",
    "version": 3
   },
   "file_extension": ".py",
   "mimetype": "text/x-python",
   "name": "python",
   "nbconvert_exporter": "python",
   "pygments_lexer": "ipython3",
   "version": "3.7.2"
  }
 },
 "nbformat": 4,
 "nbformat_minor": 2
}
