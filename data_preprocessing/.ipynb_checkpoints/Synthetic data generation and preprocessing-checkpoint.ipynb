{
 "cells": [
  {
   "cell_type": "markdown",
   "metadata": {},
   "source": [
    "*works on final_calls.csv file and generates more user data synthetically*"
   ]
  },
  {
   "cell_type": "code",
   "execution_count": null,
   "metadata": {},
   "outputs": [],
   "source": [
    "import numpy as np\n",
    "import pandas as pd\n",
    "\n",
    "calls_data = pd.read_csv('./csv/final_calls.csv', usecols=['user', 'duration', 'time_normalized'])\n",
    "\n",
    "##normalizing the data\n",
    "\n",
    "duration_std = calls_data.duration.std()\n",
    "duration_mean = calls_data.duration.mean()\n",
    "calls_data.duration = (calls_data.duration-duration_mean)/duration_std\n",
    "time_std = calls_data.time_normalized.std()\n",
    "time_mean = calls_data.time_normalized.mean()\n",
    "calls_data.time_normalized = (calls_data.time_normalized-time_mean)/time_std"
   ]
  },
  {
   "cell_type": "code",
   "execution_count": null,
   "metadata": {
    "scrolled": false
   },
   "outputs": [],
   "source": [
    "print(duration_mean, duration_std, time_mean, time_std)"
   ]
  },
  {
   "cell_type": "markdown",
   "metadata": {},
   "source": [
    "1. does normalization has an effect on MLE estimation of parameters.(It tends to decrease the variance in the distribution.)\n",
    "2. combining two gaussian distributions: mean = (n1*M1+n2*M2)/(n1+n2), \n",
    "                                       variance = {(V1^2+M1^2)*n1+(V2^2+M2^2)*n2}/(n1+n2) - mean^2"
   ]
  },
  {
   "cell_type": "code",
   "execution_count": null,
   "metadata": {},
   "outputs": [],
   "source": [
    "###---------------------old users mean and variance calculation------------------##\n",
    "\n",
    "users_mean =[]\n",
    "users_var = []\n",
    "users = calls_data['user'].unique()\n",
    "user_n = []\n",
    "for user in users:\n",
    "    print(user)\n",
    "    m = [calls_data[calls_data['user']== user]['duration'].mean(), calls_data[calls_data['user']== user]['time_normalized'].mean()]\n",
    "    users_mean.append(m)\n",
    "    ind = calls_data[calls_data['user']==user].index.values\n",
    "    cov = np.zeros((2,2))\n",
    "    for k in ind:\n",
    "        cov += np.outer((calls_data.loc[k][1:].values-m),np.transpose(calls_data.loc[k][1:].values-m))\n",
    "    cov/=len(ind)\n",
    "    users_var.append(cov)\n",
    "    user_n.append(len(ind))"
   ]
  },
  {
   "cell_type": "markdown",
   "metadata": {},
   "source": [
    "*The below code generates new mean and variance using the above mentioned formulae*"
   ]
  },
  {
   "cell_type": "code",
   "execution_count": null,
   "metadata": {},
   "outputs": [],
   "source": [
    "new_users_mean = []\n",
    "new_users_var = []\n",
    "new_users_id = []\n",
    "num_calls = []\n",
    "k=1\n",
    "for i in range(len(users)):\n",
    "    for j in range(i+1, len(users)):\n",
    "        print('user: ',k)\n",
    "        new_users_id.append(k)\n",
    "        k+=1\n",
    "        a = np.multiply(user_n[i], users_mean[i])\n",
    "        b = np.multiply(user_n[j], users_mean[j])\n",
    "        m = (a+b)/(user_n[i]+user_n[j])\n",
    "        cov = ((np.multiply(user_n[i],a)+np.multiply(user_n[j],b)+np.outer((a+b), np.transpose(a+b)))/((user_n[i]+user_n[j])*(user_n[i]+user_n[j]))) - np.outer(m,np.transpose(m))\n",
    "        new_users_var.append(cov)\n",
    "        new_users_mean.append(m)\n",
    "        num_calls.append(np.floor((user_n[i]+user_n[j])/2))"
   ]
  },
  {
   "cell_type": "markdown",
   "metadata": {},
   "source": [
    "*New calls are generated from the new mean and variance generated*"
   ]
  },
  {
   "cell_type": "code",
   "execution_count": null,
   "metadata": {},
   "outputs": [],
   "source": [
    "df = pd.DataFrame(columns=['user','duration','time_normalized'])\n",
    "#df.append({'user':-1, 'duration':-1, 'time_normalized':-1})\n",
    "for i in range(len(new_users_id)):\n",
    "    print('user', i)\n",
    "    d = np.random.multivariate_normal(new_users_mean[i], new_users_var[i], int(num_calls[i])).T\n",
    "    id = [new_users_id[i]]*int(num_calls[i])\n",
    "    df1 = pd.DataFrame({'user':id, 'duration':d[:][0], 'time_normalized':d[:][1]})\n",
    "    df = df.append(df1, ignore_index=True)"
   ]
  },
  {
   "cell_type": "markdown",
   "metadata": {},
   "source": [
    "*saving the generated data which is within original datas duration and time stamp range*"
   ]
  },
  {
   "cell_type": "code",
   "execution_count": null,
   "metadata": {},
   "outputs": [],
   "source": [
    "## removing invalid time-stamps and duration rows\n",
    "df = df[df['time_normalized']>=calls_data.time_normalized.min()]\n",
    "df = df[df['time_normalized']<=calls_data.time_normalized.max()]\n",
    "df = df[df['duration']>=calls_data.duration.min()]\n",
    "df = df[df['duration']<=calls_data.duration.max()]\n",
    "df = df.append(calls_data, ignore_index=True)\n",
    "df = df.sort_values(by = ['time_normalized'])\n",
    "df = df.reset_index()\n",
    "del df['index']\n",
    "df.to_csv('../data/378calls_data.csv', index=False)\n",
    "print(df.shape)"
   ]
  }
 ],
 "metadata": {
  "kernelspec": {
   "display_name": "Python 3.7.2 64-bit",
   "language": "python",
   "name": "python37264bit98086335ecdc4ac6a345fa60a8b3193f"
  },
  "language_info": {
   "codemirror_mode": {
    "name": "ipython",
    "version": 3
   },
   "file_extension": ".py",
   "mimetype": "text/x-python",
   "name": "python",
   "nbconvert_exporter": "python",
   "pygments_lexer": "ipython3",
   "version": "3.7.2"
  }
 },
 "nbformat": 4,
 "nbformat_minor": 2
}
